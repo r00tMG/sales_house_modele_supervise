{
 "cells": [
  {
   "cell_type": "markdown",
   "id": "e791261f-6cfc-45a7-9e8c-b11994de6d44",
   "metadata": {},
   "source": [
    "# Modele de regression supervisé"
   ]
  },
  {
   "cell_type": "code",
   "execution_count": 1,
   "id": "ec7316bb-d5c6-4fc6-b758-4cf557defb72",
   "metadata": {},
   "outputs": [],
   "source": [
    "#pip install \"pandas=2.2.2\""
   ]
  },
  {
   "cell_type": "code",
   "execution_count": 2,
   "id": "e64be355-f402-4cca-9b56-df527d8a2746",
   "metadata": {},
   "outputs": [],
   "source": [
    "import pandas as pd"
   ]
  },
  {
   "cell_type": "markdown",
   "id": "63d25bae-9caf-49da-b12d-dbd0321d35bf",
   "metadata": {},
   "source": [
    "## Chargement des données"
   ]
  },
  {
   "cell_type": "code",
   "execution_count": 3,
   "id": "7683744f-ffe8-454c-b2da-65c31b317d45",
   "metadata": {},
   "outputs": [],
   "source": [
    "df = pd.read_csv('appartements_data.csv')"
   ]
  },
  {
   "cell_type": "markdown",
   "id": "6723472e-d3b0-4555-ace6-3ccfa0f45e2d",
   "metadata": {},
   "source": [
    "### Verification du type et de la structure du DataFrame"
   ]
  },
  {
   "cell_type": "code",
   "execution_count": 4,
   "id": "ddb879b4-0b49-448a-b95a-a78f113089c1",
   "metadata": {},
   "outputs": [
    {
     "data": {
      "text/html": [
       "<div>\n",
       "<style scoped>\n",
       "    .dataframe tbody tr th:only-of-type {\n",
       "        vertical-align: middle;\n",
       "    }\n",
       "\n",
       "    .dataframe tbody tr th {\n",
       "        vertical-align: top;\n",
       "    }\n",
       "\n",
       "    .dataframe thead th {\n",
       "        text-align: right;\n",
       "    }\n",
       "</style>\n",
       "<table border=\"1\" class=\"dataframe\">\n",
       "  <thead>\n",
       "    <tr style=\"text-align: right;\">\n",
       "      <th></th>\n",
       "      <th>title</th>\n",
       "      <th>price</th>\n",
       "      <th>city_name</th>\n",
       "      <th>salon</th>\n",
       "      <th>nb_rooms</th>\n",
       "      <th>nb_baths</th>\n",
       "      <th>surface_area</th>\n",
       "      <th>equipment</th>\n",
       "      <th>link</th>\n",
       "    </tr>\n",
       "  </thead>\n",
       "  <tbody>\n",
       "    <tr>\n",
       "      <th>0</th>\n",
       "      <td>CMN-MA-1752 - Appartement à vendre à Palmier</td>\n",
       "      <td>2 000 000 DH</td>\n",
       "      <td>Casablanca</td>\n",
       "      <td>NaN</td>\n",
       "      <td>2.0</td>\n",
       "      <td>2.0</td>\n",
       "      <td>168.0</td>\n",
       "      <td>Ascenseur/Balcon/Parking/Terrasse</td>\n",
       "      <td>https://www.avito.ma/fr/palmier/appartements/C...</td>\n",
       "    </tr>\n",
       "    <tr>\n",
       "      <th>1</th>\n",
       "      <td>66370-Vente Appt à Casablanca Hay Hassani de 1...</td>\n",
       "      <td>1 195 000 DH</td>\n",
       "      <td>Casablanca</td>\n",
       "      <td>NaN</td>\n",
       "      <td>2.0</td>\n",
       "      <td>2.0</td>\n",
       "      <td>98.0</td>\n",
       "      <td>Ascenseur/Balcon/Chauffage/Climatisation/Cuisi...</td>\n",
       "      <td>https://www.avito.ma/fr/hay_hassani/appartemen...</td>\n",
       "    </tr>\n",
       "    <tr>\n",
       "      <th>2</th>\n",
       "      <td>Appartement à vendre 81 m² à Dar Bouazza</td>\n",
       "      <td>1 350 000 DH</td>\n",
       "      <td>Dar Bouazza</td>\n",
       "      <td>1.0</td>\n",
       "      <td>2.0</td>\n",
       "      <td>2.0</td>\n",
       "      <td>81.0</td>\n",
       "      <td>Ascenseur/Balcon/Chauffage/Climatisation/Conci...</td>\n",
       "      <td>https://www.avito.ma/fr/dar_bouazza/appartemen...</td>\n",
       "    </tr>\n",
       "    <tr>\n",
       "      <th>3</th>\n",
       "      <td>63860-Vente Appt à Casablanca Quartier Bd Med ...</td>\n",
       "      <td>900 000 DH</td>\n",
       "      <td>Casablanca</td>\n",
       "      <td>NaN</td>\n",
       "      <td>1.0</td>\n",
       "      <td>1.0</td>\n",
       "      <td>56.0</td>\n",
       "      <td>Ascenseur/Chauffage/Climatisation/Cuisine Équi...</td>\n",
       "      <td>https://www.avito.ma/fr/centre_ville/apparteme...</td>\n",
       "    </tr>\n",
       "    <tr>\n",
       "      <th>4</th>\n",
       "      <td>Appartement à Rabat Agdal</td>\n",
       "      <td>3 100 000 DH</td>\n",
       "      <td>Rabat</td>\n",
       "      <td>2.0</td>\n",
       "      <td>3.0</td>\n",
       "      <td>2.0</td>\n",
       "      <td>200.0</td>\n",
       "      <td>Ascenseur/Balcon/Concierge/Parking/Sécurité</td>\n",
       "      <td>https://www.avito.ma/fr/agdal/appartements/App...</td>\n",
       "    </tr>\n",
       "  </tbody>\n",
       "</table>\n",
       "</div>"
      ],
      "text/plain": [
       "                                               title         price  \\\n",
       "0       CMN-MA-1752 - Appartement à vendre à Palmier  2 000 000 DH   \n",
       "1  66370-Vente Appt à Casablanca Hay Hassani de 1...  1 195 000 DH   \n",
       "2           Appartement à vendre 81 m² à Dar Bouazza  1 350 000 DH   \n",
       "3  63860-Vente Appt à Casablanca Quartier Bd Med ...    900 000 DH   \n",
       "4                          Appartement à Rabat Agdal  3 100 000 DH   \n",
       "\n",
       "     city_name  salon  nb_rooms  nb_baths  surface_area  \\\n",
       "0   Casablanca    NaN       2.0       2.0         168.0   \n",
       "1   Casablanca    NaN       2.0       2.0          98.0   \n",
       "2  Dar Bouazza    1.0       2.0       2.0          81.0   \n",
       "3   Casablanca    NaN       1.0       1.0          56.0   \n",
       "4        Rabat    2.0       3.0       2.0         200.0   \n",
       "\n",
       "                                           equipment  \\\n",
       "0                  Ascenseur/Balcon/Parking/Terrasse   \n",
       "1  Ascenseur/Balcon/Chauffage/Climatisation/Cuisi...   \n",
       "2  Ascenseur/Balcon/Chauffage/Climatisation/Conci...   \n",
       "3  Ascenseur/Chauffage/Climatisation/Cuisine Équi...   \n",
       "4        Ascenseur/Balcon/Concierge/Parking/Sécurité   \n",
       "\n",
       "                                                link  \n",
       "0  https://www.avito.ma/fr/palmier/appartements/C...  \n",
       "1  https://www.avito.ma/fr/hay_hassani/appartemen...  \n",
       "2  https://www.avito.ma/fr/dar_bouazza/appartemen...  \n",
       "3  https://www.avito.ma/fr/centre_ville/apparteme...  \n",
       "4  https://www.avito.ma/fr/agdal/appartements/App...  "
      ]
     },
     "execution_count": 4,
     "metadata": {},
     "output_type": "execute_result"
    }
   ],
   "source": [
    "df.head()"
   ]
  },
  {
   "cell_type": "code",
   "execution_count": 5,
   "id": "a1653f93-9290-47d1-b5a5-3d07a1a982ed",
   "metadata": {},
   "outputs": [],
   "source": [
    "df_sous = df.head().copy()"
   ]
  },
  {
   "cell_type": "markdown",
   "id": "416c61bc-3f9a-496f-b399-644ae81c53d0",
   "metadata": {},
   "source": [
    "# Analyse exploratoire des données"
   ]
  },
  {
   "cell_type": "code",
   "execution_count": 6,
   "id": "b155a776-6499-4e25-858a-cb83ff122ec2",
   "metadata": {},
   "outputs": [
    {
     "data": {
      "text/plain": [
       "title            object\n",
       "price            object\n",
       "city_name        object\n",
       "salon           float64\n",
       "nb_rooms        float64\n",
       "nb_baths        float64\n",
       "surface_area    float64\n",
       "equipment        object\n",
       "link             object\n",
       "dtype: object"
      ]
     },
     "execution_count": 6,
     "metadata": {},
     "output_type": "execute_result"
    }
   ],
   "source": [
    "df_sous.dtypes"
   ]
  },
  {
   "cell_type": "code",
   "execution_count": 7,
   "id": "253b2d77-f634-408e-8227-a854ee884c7d",
   "metadata": {},
   "outputs": [
    {
     "data": {
      "text/plain": [
       "45"
      ]
     },
     "execution_count": 7,
     "metadata": {},
     "output_type": "execute_result"
    }
   ],
   "source": [
    "df_sous.size"
   ]
  },
  {
   "cell_type": "markdown",
   "id": "07ae312a-1f8e-48c5-8741-3b6dc8873edb",
   "metadata": {},
   "source": [
    "## Verification des duplications"
   ]
  },
  {
   "cell_type": "code",
   "execution_count": 8,
   "id": "7aa3ce43-85e5-4ddb-b04f-737bcb20a496",
   "metadata": {},
   "outputs": [
    {
     "data": {
      "text/plain": [
       "np.int64(0)"
      ]
     },
     "execution_count": 8,
     "metadata": {},
     "output_type": "execute_result"
    }
   ],
   "source": [
    "df_sous.duplicated().sum()"
   ]
  },
  {
   "cell_type": "markdown",
   "id": "a6c29596-3b7c-4c1c-84d1-6434ab5aa272",
   "metadata": {},
   "source": [
    "## Identification des valeurs manquantes"
   ]
  },
  {
   "cell_type": "code",
   "execution_count": 9,
   "id": "00ab3903-d2bd-4626-aa6d-7e73449f0762",
   "metadata": {},
   "outputs": [
    {
     "data": {
      "text/plain": [
       "np.int64(3)"
      ]
     },
     "execution_count": 9,
     "metadata": {},
     "output_type": "execute_result"
    }
   ],
   "source": [
    "df_sous.isna().any(axis=1).sum()"
   ]
  },
  {
   "cell_type": "markdown",
   "id": "49cee98b-71a6-4d97-8ad6-37b6f440782e",
   "metadata": {},
   "source": [
    "## Analyser la distribution des variables numeriques"
   ]
  },
  {
   "cell_type": "code",
   "execution_count": 10,
   "id": "bad26fa0-5e75-417b-9f2d-fcf1ed8a20a6",
   "metadata": {},
   "outputs": [
    {
     "name": "stdout",
     "output_type": "stream",
     "text": [
      "Requirement already satisfied: seaborn in ./.venv/lib/python3.13/site-packages (0.13.2)\n",
      "Requirement already satisfied: numpy!=1.24.0,>=1.20 in ./.venv/lib/python3.13/site-packages (from seaborn) (2.3.1)\n",
      "Requirement already satisfied: pandas>=1.2 in ./.venv/lib/python3.13/site-packages (from seaborn) (2.2.2)\n",
      "Requirement already satisfied: matplotlib!=3.6.1,>=3.4 in ./.venv/lib/python3.13/site-packages (from seaborn) (3.10.3)\n",
      "Requirement already satisfied: contourpy>=1.0.1 in ./.venv/lib/python3.13/site-packages (from matplotlib!=3.6.1,>=3.4->seaborn) (1.3.2)\n",
      "Requirement already satisfied: cycler>=0.10 in ./.venv/lib/python3.13/site-packages (from matplotlib!=3.6.1,>=3.4->seaborn) (0.12.1)\n",
      "Requirement already satisfied: fonttools>=4.22.0 in ./.venv/lib/python3.13/site-packages (from matplotlib!=3.6.1,>=3.4->seaborn) (4.59.0)\n",
      "Requirement already satisfied: kiwisolver>=1.3.1 in ./.venv/lib/python3.13/site-packages (from matplotlib!=3.6.1,>=3.4->seaborn) (1.4.8)\n",
      "Requirement already satisfied: packaging>=20.0 in ./.venv/lib/python3.13/site-packages (from matplotlib!=3.6.1,>=3.4->seaborn) (25.0)\n",
      "Requirement already satisfied: pillow>=8 in ./.venv/lib/python3.13/site-packages (from matplotlib!=3.6.1,>=3.4->seaborn) (11.3.0)\n",
      "Requirement already satisfied: pyparsing>=2.3.1 in ./.venv/lib/python3.13/site-packages (from matplotlib!=3.6.1,>=3.4->seaborn) (3.2.3)\n",
      "Requirement already satisfied: python-dateutil>=2.7 in ./.venv/lib/python3.13/site-packages (from matplotlib!=3.6.1,>=3.4->seaborn) (2.9.0.post0)\n",
      "Requirement already satisfied: pytz>=2020.1 in ./.venv/lib/python3.13/site-packages (from pandas>=1.2->seaborn) (2025.2)\n",
      "Requirement already satisfied: tzdata>=2022.7 in ./.venv/lib/python3.13/site-packages (from pandas>=1.2->seaborn) (2025.2)\n",
      "Requirement already satisfied: six>=1.5 in ./.venv/lib/python3.13/site-packages (from python-dateutil>=2.7->matplotlib!=3.6.1,>=3.4->seaborn) (1.17.0)\n",
      "Note: you may need to restart the kernel to use updated packages.\n"
     ]
    }
   ],
   "source": [
    "pip install seaborn"
   ]
  },
  {
   "cell_type": "code",
   "execution_count": 11,
   "id": "de29771a-b747-49bf-a9cc-0ce64488ad9a",
   "metadata": {},
   "outputs": [],
   "source": [
    "import seaborn as sns\n",
    "import matplotlib.pyplot as plt"
   ]
  },
  {
   "cell_type": "code",
   "execution_count": 12,
   "id": "9d33218d-477e-462a-b5cf-02c3ef64523a",
   "metadata": {},
   "outputs": [
    {
     "data": {
      "image/png": "[encoded data removed]",
      "text/plain": [
       "<Figure size 640x480 with 1 Axes>"
      ]
     },
     "metadata": {},
     "output_type": "display_data"
    },
    {
     "data": {
      "image/png": "[encoded data removed]",
      "text/plain": [
       "<Figure size 640x480 with 1 Axes>"
      ]
     },
     "metadata": {},
     "output_type": "display_data"
    },
    {
     "data": {
      "image/png": "[encoded data removed]",
      "text/plain": [
       "<Figure size 640x480 with 1 Axes>"
      ]
     },
     "metadata": {},
     "output_type": "display_data"
    },
    {
     "data": {
      "image/png": "[encoded data removed]",
      "text/plain": [
       "<Figure size 640x480 with 1 Axes>"
      ]
     },
     "metadata": {},
     "output_type": "display_data"
    }
   ],
   "source": [
    "for i in list(df_sous.select_dtypes(include='number').columns):\n",
    "    sns.histplot(df_sous[i], kde=True)\n",
    "    plt.title(f'Histogramme de {i}')\n",
    "    plt.show()"
   ]
  },
  {
   "cell_type": "code",
   "execution_count": 13,
   "id": "9f3c23ac-0f1b-4457-80a7-eec1827b04de",
   "metadata": {},
   "outputs": [
    {
     "data": {
      "image/png": "[encoded data removed]",
      "text/plain": [
       "<Figure size 640x480 with 2 Axes>"
      ]
     },
     "metadata": {},
     "output_type": "display_data"
    }
   ],
   "source": [
    "corr = df_sous.corr(numeric_only = True)\n",
    "sns.heatmap(corr, annot = True, cmap=\"coolwarm\")\n",
    "plt.title(\"Matrice de correlation\")\n",
    "plt.show()"
   ]
  },
  {
   "cell_type": "markdown",
   "id": "94a62167-332e-40f7-9a6d-55782251ca2a",
   "metadata": {},
   "source": [
    "# Prétraitement des données"
   ]
  },
  {
   "cell_type": "markdown",
   "id": "ff4011b0-ef12-49ff-9dbe-a52871809ffd",
   "metadata": {},
   "source": [
    "## Etraction des equipements(equipement) dans les colonnes booléeenne"
   ]
  },
  {
   "cell_type": "code",
   "execution_count": 14,
   "id": "045d78b4-c88b-4cc3-9530-fd9cd4277cb8",
   "metadata": {},
   "outputs": [],
   "source": [
    "equipement_dummies = df_sous[\"equipment\"].str.get_dummies(sep='/')\n",
    "df_sous = pd.concat([df_sous, equipement_dummies], axis=1)"
   ]
  },
  {
   "cell_type": "markdown",
   "id": "057c6469-97c9-441f-9179-53fec4624138",
   "metadata": {},
   "source": [
    "## Convertion de la colonne price en type float et suppression des caractères non numérique"
   ]
  },
  {
   "cell_type": "code",
   "execution_count": 15,
   "id": "aa69a2af-4af5-4177-b01f-ee0ebff8106c",
   "metadata": {},
   "outputs": [],
   "source": [
    "df_sous[\"price\"] = (df[\"price\"].astype(str).str.replace(r'[^\\d]',\"\", regex=True).replace(\"\", None).astype(float))"
   ]
  },
  {
   "cell_type": "markdown",
   "id": "6d1c86af-66aa-46a5-9ba2-0e58a6a05f42",
   "metadata": {},
   "source": [
    "##  Supprission les colonnes inutiles telles que equipment et link."
   ]
  },
  {
   "cell_type": "code",
   "execution_count": 16,
   "id": "57dc5089-dbcd-481e-9e43-a5c0f7460c0a",
   "metadata": {},
   "outputs": [],
   "source": [
    "df_droped = df_sous.drop(columns = {\"equipment\", \"link\"} , axis=1)"
   ]
  },
  {
   "cell_type": "markdown",
   "id": "0394e3fb-9de7-4774-885e-83794cf87104",
   "metadata": {},
   "source": [
    "## Traitement de la colonne city_name"
   ]
  },
  {
   "cell_type": "code",
   "execution_count": 17,
   "id": "b84dc585-f1c7-43dc-a53b-b9811b75b50a",
   "metadata": {},
   "outputs": [
    {
     "data": {
      "text/plain": [
       "0     Casablanca\n",
       "1     Casablanca\n",
       "2    Dar Bouazza\n",
       "3     Casablanca\n",
       "4          Rabat\n",
       "Name: city_name, dtype: object"
      ]
     },
     "execution_count": 17,
     "metadata": {},
     "output_type": "execute_result"
    }
   ],
   "source": [
    "df_droped[\"city_name\"].str.strip().str.title()"
   ]
  },
  {
   "cell_type": "markdown",
   "id": "d334971b-271f-4945-8c11-2a2aae503822",
   "metadata": {},
   "source": [
    "## Remplacement des valeurs manquantes dans city_name par \"Unknown\"."
   ]
  },
  {
   "cell_type": "code",
   "execution_count": 18,
   "id": "aed0a783-76e0-4d53-a1e1-9072ff94d7e4",
   "metadata": {},
   "outputs": [],
   "source": [
    "if df_droped[\"city_name\"].isna().any(axis=0).sum() > 0:\n",
    "    df_droped[\"city_name\"] = df_droped[\"city_name\"].fillna(\"Unknown\")"
   ]
  },
  {
   "cell_type": "markdown",
   "id": "2a904359-5ec6-47df-b275-f673c391eeed",
   "metadata": {},
   "source": [
    "## Gestion des valeurs manquantes:"
   ]
  },
  {
   "cell_type": "markdown",
   "id": "17f55e64-dcf1-41f9-938b-6822e71b5fef",
   "metadata": {},
   "source": [
    "## Remplacement les valeurs manquantes par la médiane."
   ]
  },
  {
   "cell_type": "code",
   "execution_count": 19,
   "id": "b8327be1-f138-4e1b-9c40-2d47b7b0d357",
   "metadata": {},
   "outputs": [],
   "source": [
    "for i in list(df_droped.select_dtypes(include=\"number\").columns):\n",
    "    df_droped[i] = df_droped[i].fillna(df_droped[i].median())"
   ]
  },
  {
   "cell_type": "code",
   "execution_count": 20,
   "id": "7c410846-4e98-4380-a26f-b9de969190d3",
   "metadata": {},
   "outputs": [
    {
     "data": {
      "text/html": [
       "<div>\n",
       "<style scoped>\n",
       "    .dataframe tbody tr th:only-of-type {\n",
       "        vertical-align: middle;\n",
       "    }\n",
       "\n",
       "    .dataframe tbody tr th {\n",
       "        vertical-align: top;\n",
       "    }\n",
       "\n",
       "    .dataframe thead th {\n",
       "        text-align: right;\n",
       "    }\n",
       "</style>\n",
       "<table border=\"1\" class=\"dataframe\">\n",
       "  <thead>\n",
       "    <tr style=\"text-align: right;\">\n",
       "      <th></th>\n",
       "      <th>title</th>\n",
       "      <th>price</th>\n",
       "      <th>city_name</th>\n",
       "      <th>salon</th>\n",
       "      <th>nb_rooms</th>\n",
       "      <th>nb_baths</th>\n",
       "      <th>surface_area</th>\n",
       "      <th>Ascenseur</th>\n",
       "      <th>Balcon</th>\n",
       "      <th>Chauffage</th>\n",
       "      <th>Climatisation</th>\n",
       "      <th>Concierge</th>\n",
       "      <th>Cuisine Équipée</th>\n",
       "      <th>Duplex</th>\n",
       "      <th>Meublé</th>\n",
       "      <th>Parking</th>\n",
       "      <th>Sécurité</th>\n",
       "      <th>Terrasse</th>\n",
       "    </tr>\n",
       "  </thead>\n",
       "  <tbody>\n",
       "    <tr>\n",
       "      <th>0</th>\n",
       "      <td>CMN-MA-1752 - Appartement à vendre à Palmier</td>\n",
       "      <td>2000000.0</td>\n",
       "      <td>Casablanca</td>\n",
       "      <td>1.5</td>\n",
       "      <td>2.0</td>\n",
       "      <td>2.0</td>\n",
       "      <td>168.0</td>\n",
       "      <td>1</td>\n",
       "      <td>1</td>\n",
       "      <td>0</td>\n",
       "      <td>0</td>\n",
       "      <td>0</td>\n",
       "      <td>0</td>\n",
       "      <td>0</td>\n",
       "      <td>0</td>\n",
       "      <td>1</td>\n",
       "      <td>0</td>\n",
       "      <td>1</td>\n",
       "    </tr>\n",
       "    <tr>\n",
       "      <th>1</th>\n",
       "      <td>66370-Vente Appt à Casablanca Hay Hassani de 1...</td>\n",
       "      <td>1195000.0</td>\n",
       "      <td>Casablanca</td>\n",
       "      <td>1.5</td>\n",
       "      <td>2.0</td>\n",
       "      <td>2.0</td>\n",
       "      <td>98.0</td>\n",
       "      <td>1</td>\n",
       "      <td>1</td>\n",
       "      <td>1</td>\n",
       "      <td>1</td>\n",
       "      <td>0</td>\n",
       "      <td>1</td>\n",
       "      <td>0</td>\n",
       "      <td>0</td>\n",
       "      <td>1</td>\n",
       "      <td>0</td>\n",
       "      <td>0</td>\n",
       "    </tr>\n",
       "    <tr>\n",
       "      <th>2</th>\n",
       "      <td>Appartement à vendre 81 m² à Dar Bouazza</td>\n",
       "      <td>1350000.0</td>\n",
       "      <td>Dar Bouazza</td>\n",
       "      <td>1.0</td>\n",
       "      <td>2.0</td>\n",
       "      <td>2.0</td>\n",
       "      <td>81.0</td>\n",
       "      <td>1</td>\n",
       "      <td>1</td>\n",
       "      <td>1</td>\n",
       "      <td>1</td>\n",
       "      <td>1</td>\n",
       "      <td>1</td>\n",
       "      <td>1</td>\n",
       "      <td>0</td>\n",
       "      <td>1</td>\n",
       "      <td>1</td>\n",
       "      <td>1</td>\n",
       "    </tr>\n",
       "    <tr>\n",
       "      <th>3</th>\n",
       "      <td>63860-Vente Appt à Casablanca Quartier Bd Med ...</td>\n",
       "      <td>900000.0</td>\n",
       "      <td>Casablanca</td>\n",
       "      <td>1.5</td>\n",
       "      <td>1.0</td>\n",
       "      <td>1.0</td>\n",
       "      <td>56.0</td>\n",
       "      <td>1</td>\n",
       "      <td>0</td>\n",
       "      <td>1</td>\n",
       "      <td>1</td>\n",
       "      <td>0</td>\n",
       "      <td>1</td>\n",
       "      <td>0</td>\n",
       "      <td>1</td>\n",
       "      <td>1</td>\n",
       "      <td>1</td>\n",
       "      <td>1</td>\n",
       "    </tr>\n",
       "    <tr>\n",
       "      <th>4</th>\n",
       "      <td>Appartement à Rabat Agdal</td>\n",
       "      <td>3100000.0</td>\n",
       "      <td>Rabat</td>\n",
       "      <td>2.0</td>\n",
       "      <td>3.0</td>\n",
       "      <td>2.0</td>\n",
       "      <td>200.0</td>\n",
       "      <td>1</td>\n",
       "      <td>1</td>\n",
       "      <td>0</td>\n",
       "      <td>0</td>\n",
       "      <td>1</td>\n",
       "      <td>0</td>\n",
       "      <td>0</td>\n",
       "      <td>0</td>\n",
       "      <td>1</td>\n",
       "      <td>1</td>\n",
       "      <td>0</td>\n",
       "    </tr>\n",
       "  </tbody>\n",
       "</table>\n",
       "</div>"
      ],
      "text/plain": [
       "                                               title      price    city_name  \\\n",
       "0       CMN-MA-1752 - Appartement à vendre à Palmier  2000000.0   Casablanca   \n",
       "1  66370-Vente Appt à Casablanca Hay Hassani de 1...  1195000.0   Casablanca   \n",
       "2           Appartement à vendre 81 m² à Dar Bouazza  1350000.0  Dar Bouazza   \n",
       "3  63860-Vente Appt à Casablanca Quartier Bd Med ...   900000.0   Casablanca   \n",
       "4                          Appartement à Rabat Agdal  3100000.0        Rabat   \n",
       "\n",
       "   salon  nb_rooms  nb_baths  surface_area  Ascenseur  Balcon  Chauffage  \\\n",
       "0    1.5       2.0       2.0         168.0          1       1          0   \n",
       "1    1.5       2.0       2.0          98.0          1       1          1   \n",
       "2    1.0       2.0       2.0          81.0          1       1          1   \n",
       "3    1.5       1.0       1.0          56.0          1       0          1   \n",
       "4    2.0       3.0       2.0         200.0          1       1          0   \n",
       "\n",
       "   Climatisation  Concierge  Cuisine Équipée  Duplex  Meublé  Parking  \\\n",
       "0              0          0                0       0       0        1   \n",
       "1              1          0                1       0       0        1   \n",
       "2              1          1                1       1       0        1   \n",
       "3              1          0                1       0       1        1   \n",
       "4              0          1                0       0       0        1   \n",
       "\n",
       "   Sécurité  Terrasse  \n",
       "0         0         1  \n",
       "1         0         0  \n",
       "2         1         1  \n",
       "3         1         1  \n",
       "4         1         0  "
      ]
     },
     "execution_count": 20,
     "metadata": {},
     "output_type": "execute_result"
    }
   ],
   "source": [
    "df_droped.head()"
   ]
  },
  {
   "cell_type": "markdown",
   "id": "07127515-8624-4e4b-ad56-0ce5402e52f6",
   "metadata": {},
   "source": [
    "## Pour les colonnes catégorielles (chaînes de caractères) : imputer avec \"Unknown\""
   ]
  },
  {
   "cell_type": "code",
   "execution_count": 21,
   "id": "2c124839-a064-4839-b58d-50e318216cea",
   "metadata": {},
   "outputs": [],
   "source": [
    "for i in df_droped.select_dtypes(include=\"object\").columns:\n",
    "    df_droped[i] = df_droped[i].fillna(\"Unkown\")"
   ]
  },
  {
   "cell_type": "markdown",
   "id": "c83ddc72-24de-416a-b895-7831f8315f5b",
   "metadata": {},
   "source": [
    "# Détection et suppression des valeurs aberrantes:"
   ]
  },
  {
   "cell_type": "markdown",
   "id": "cbddf1c3-08e4-45d2-9d50-1b3fa6c68d28",
   "metadata": {},
   "source": [
    "## Détection les outliers avec la methode statistique IQR"
   ]
  },
  {
   "cell_type": "code",
   "execution_count": 22,
   "id": "f86667cd-a48c-4849-aa2f-567c02faa50f",
   "metadata": {},
   "outputs": [
    {
     "data": {
      "text/html": [
       "<div>\n",
       "<style scoped>\n",
       "    .dataframe tbody tr th:only-of-type {\n",
       "        vertical-align: middle;\n",
       "    }\n",
       "\n",
       "    .dataframe tbody tr th {\n",
       "        vertical-align: top;\n",
       "    }\n",
       "\n",
       "    .dataframe thead th {\n",
       "        text-align: right;\n",
       "    }\n",
       "</style>\n",
       "<table border=\"1\" class=\"dataframe\">\n",
       "  <thead>\n",
       "    <tr style=\"text-align: right;\">\n",
       "      <th></th>\n",
       "      <th>title</th>\n",
       "      <th>price</th>\n",
       "      <th>city_name</th>\n",
       "      <th>salon</th>\n",
       "      <th>nb_rooms</th>\n",
       "      <th>nb_baths</th>\n",
       "      <th>surface_area</th>\n",
       "      <th>Ascenseur</th>\n",
       "      <th>Balcon</th>\n",
       "      <th>Chauffage</th>\n",
       "      <th>Climatisation</th>\n",
       "      <th>Concierge</th>\n",
       "      <th>Cuisine Équipée</th>\n",
       "      <th>Duplex</th>\n",
       "      <th>Meublé</th>\n",
       "      <th>Parking</th>\n",
       "      <th>Sécurité</th>\n",
       "      <th>Terrasse</th>\n",
       "    </tr>\n",
       "  </thead>\n",
       "  <tbody>\n",
       "    <tr>\n",
       "      <th>0</th>\n",
       "      <td>CMN-MA-1752 - Appartement à vendre à Palmier</td>\n",
       "      <td>2000000.0</td>\n",
       "      <td>Casablanca</td>\n",
       "      <td>1.5</td>\n",
       "      <td>2.0</td>\n",
       "      <td>2.0</td>\n",
       "      <td>168.0</td>\n",
       "      <td>1</td>\n",
       "      <td>1</td>\n",
       "      <td>0</td>\n",
       "      <td>0</td>\n",
       "      <td>0</td>\n",
       "      <td>0</td>\n",
       "      <td>0</td>\n",
       "      <td>0</td>\n",
       "      <td>1</td>\n",
       "      <td>0</td>\n",
       "      <td>1</td>\n",
       "    </tr>\n",
       "    <tr>\n",
       "      <th>1</th>\n",
       "      <td>66370-Vente Appt à Casablanca Hay Hassani de 1...</td>\n",
       "      <td>1195000.0</td>\n",
       "      <td>Casablanca</td>\n",
       "      <td>1.5</td>\n",
       "      <td>2.0</td>\n",
       "      <td>2.0</td>\n",
       "      <td>98.0</td>\n",
       "      <td>1</td>\n",
       "      <td>1</td>\n",
       "      <td>1</td>\n",
       "      <td>1</td>\n",
       "      <td>0</td>\n",
       "      <td>1</td>\n",
       "      <td>0</td>\n",
       "      <td>0</td>\n",
       "      <td>1</td>\n",
       "      <td>0</td>\n",
       "      <td>0</td>\n",
       "    </tr>\n",
       "    <tr>\n",
       "      <th>2</th>\n",
       "      <td>Appartement à vendre 81 m² à Dar Bouazza</td>\n",
       "      <td>1350000.0</td>\n",
       "      <td>Dar Bouazza</td>\n",
       "      <td>1.0</td>\n",
       "      <td>2.0</td>\n",
       "      <td>2.0</td>\n",
       "      <td>81.0</td>\n",
       "      <td>1</td>\n",
       "      <td>1</td>\n",
       "      <td>1</td>\n",
       "      <td>1</td>\n",
       "      <td>1</td>\n",
       "      <td>1</td>\n",
       "      <td>1</td>\n",
       "      <td>0</td>\n",
       "      <td>1</td>\n",
       "      <td>1</td>\n",
       "      <td>1</td>\n",
       "    </tr>\n",
       "    <tr>\n",
       "      <th>3</th>\n",
       "      <td>63860-Vente Appt à Casablanca Quartier Bd Med ...</td>\n",
       "      <td>900000.0</td>\n",
       "      <td>Casablanca</td>\n",
       "      <td>1.5</td>\n",
       "      <td>1.0</td>\n",
       "      <td>1.0</td>\n",
       "      <td>56.0</td>\n",
       "      <td>1</td>\n",
       "      <td>0</td>\n",
       "      <td>1</td>\n",
       "      <td>1</td>\n",
       "      <td>0</td>\n",
       "      <td>1</td>\n",
       "      <td>0</td>\n",
       "      <td>1</td>\n",
       "      <td>1</td>\n",
       "      <td>1</td>\n",
       "      <td>1</td>\n",
       "    </tr>\n",
       "    <tr>\n",
       "      <th>4</th>\n",
       "      <td>Appartement à Rabat Agdal</td>\n",
       "      <td>3100000.0</td>\n",
       "      <td>Rabat</td>\n",
       "      <td>2.0</td>\n",
       "      <td>3.0</td>\n",
       "      <td>2.0</td>\n",
       "      <td>200.0</td>\n",
       "      <td>1</td>\n",
       "      <td>1</td>\n",
       "      <td>0</td>\n",
       "      <td>0</td>\n",
       "      <td>1</td>\n",
       "      <td>0</td>\n",
       "      <td>0</td>\n",
       "      <td>0</td>\n",
       "      <td>1</td>\n",
       "      <td>1</td>\n",
       "      <td>0</td>\n",
       "    </tr>\n",
       "  </tbody>\n",
       "</table>\n",
       "</div>"
      ],
      "text/plain": [
       "                                               title      price    city_name  \\\n",
       "0       CMN-MA-1752 - Appartement à vendre à Palmier  2000000.0   Casablanca   \n",
       "1  66370-Vente Appt à Casablanca Hay Hassani de 1...  1195000.0   Casablanca   \n",
       "2           Appartement à vendre 81 m² à Dar Bouazza  1350000.0  Dar Bouazza   \n",
       "3  63860-Vente Appt à Casablanca Quartier Bd Med ...   900000.0   Casablanca   \n",
       "4                          Appartement à Rabat Agdal  3100000.0        Rabat   \n",
       "\n",
       "   salon  nb_rooms  nb_baths  surface_area  Ascenseur  Balcon  Chauffage  \\\n",
       "0    1.5       2.0       2.0         168.0          1       1          0   \n",
       "1    1.5       2.0       2.0          98.0          1       1          1   \n",
       "2    1.0       2.0       2.0          81.0          1       1          1   \n",
       "3    1.5       1.0       1.0          56.0          1       0          1   \n",
       "4    2.0       3.0       2.0         200.0          1       1          0   \n",
       "\n",
       "   Climatisation  Concierge  Cuisine Équipée  Duplex  Meublé  Parking  \\\n",
       "0              0          0                0       0       0        1   \n",
       "1              1          0                1       0       0        1   \n",
       "2              1          1                1       1       0        1   \n",
       "3              1          0                1       0       1        1   \n",
       "4              0          1                0       0       0        1   \n",
       "\n",
       "   Sécurité  Terrasse  \n",
       "0         0         1  \n",
       "1         0         0  \n",
       "2         1         1  \n",
       "3         1         1  \n",
       "4         1         0  "
      ]
     },
     "execution_count": 22,
     "metadata": {},
     "output_type": "execute_result"
    }
   ],
   "source": [
    "def outliers(dframe):\n",
    "    outlier_ = {}\n",
    "    for i in list(dframe.select_dtypes(include=\"number\").columns):\n",
    "        q1 = dframe[i].quantile(0.25)\n",
    "        q3 = dframe[i].quantile(0.75)\n",
    "        IQR = q1 - q3\n",
    "        b_basse = q1 - 1.5*IQR\n",
    "        b_haute = q3 + 1.5*IQR\n",
    "        outliers = dframe[(dframe[i] < b_basse) | (dframe[i] > b_haute)]\n",
    "\n",
    "    if not outliers.empty:\n",
    "        outlier_ = outliers\n",
    "    return outlier_\n",
    " \n",
    "outliers(df_droped)"
   ]
  },
  {
   "cell_type": "markdown",
   "id": "21e4bf3b-44d5-4860-a2f3-59fb8241b770",
   "metadata": {},
   "source": [
    "## Suppression des lignes contenant des valeurs aberrantes sur des colonnes clés"
   ]
  },
  {
   "cell_type": "code",
   "execution_count": 23,
   "id": "04485a04-e7d0-460b-a87e-edd6b2d2971e",
   "metadata": {},
   "outputs": [],
   "source": [
    "def drop_outliers(dframe):\n",
    "    outlier_ = {}\n",
    "    for i in list(dframe.select_dtypes(include=\"number\").columns):\n",
    "        q1 = dframe[i].quantile(0.25)\n",
    "        q3 = dframe[i].quantile(0.75)\n",
    "        IQR = q1 - q3\n",
    "        b_basse = q1 - 1.5*IQR\n",
    "        b_haute = q3 + 1.5*IQR\n",
    "        outliers = dframe[(dframe[i] >= b_basse) | (dframe[i] <= b_haute)]\n",
    "\n",
    "    if not outliers.empty:\n",
    "        outlier_ = outliers\n",
    "    return outlier_\n",
    "\n",
    "\n",
    "df_clean = outliers(df_droped)\n"
   ]
  },
  {
   "cell_type": "code",
   "execution_count": 25,
   "id": "db0ea3ee-23ed-4a7f-9749-a34fd99d5267",
   "metadata": {},
   "outputs": [
    {
     "data": {
      "text/html": [
       "<div>\n",
       "<style scoped>\n",
       "    .dataframe tbody tr th:only-of-type {\n",
       "        vertical-align: middle;\n",
       "    }\n",
       "\n",
       "    .dataframe tbody tr th {\n",
       "        vertical-align: top;\n",
       "    }\n",
       "\n",
       "    .dataframe thead th {\n",
       "        text-align: right;\n",
       "    }\n",
       "</style>\n",
       "<table border=\"1\" class=\"dataframe\">\n",
       "  <thead>\n",
       "    <tr style=\"text-align: right;\">\n",
       "      <th></th>\n",
       "      <th>title</th>\n",
       "      <th>price</th>\n",
       "      <th>city_name</th>\n",
       "      <th>salon</th>\n",
       "      <th>nb_rooms</th>\n",
       "      <th>nb_baths</th>\n",
       "      <th>surface_area</th>\n",
       "      <th>Ascenseur</th>\n",
       "      <th>Balcon</th>\n",
       "      <th>Chauffage</th>\n",
       "      <th>Climatisation</th>\n",
       "      <th>Concierge</th>\n",
       "      <th>Cuisine Équipée</th>\n",
       "      <th>Duplex</th>\n",
       "      <th>Meublé</th>\n",
       "      <th>Parking</th>\n",
       "      <th>Sécurité</th>\n",
       "      <th>Terrasse</th>\n",
       "    </tr>\n",
       "  </thead>\n",
       "  <tbody>\n",
       "    <tr>\n",
       "      <th>0</th>\n",
       "      <td>CMN-MA-1752 - Appartement à vendre à Palmier</td>\n",
       "      <td>2000000.0</td>\n",
       "      <td>Casablanca</td>\n",
       "      <td>1.5</td>\n",
       "      <td>2.0</td>\n",
       "      <td>2.0</td>\n",
       "      <td>168.0</td>\n",
       "      <td>1</td>\n",
       "      <td>1</td>\n",
       "      <td>0</td>\n",
       "      <td>0</td>\n",
       "      <td>0</td>\n",
       "      <td>0</td>\n",
       "      <td>0</td>\n",
       "      <td>0</td>\n",
       "      <td>1</td>\n",
       "      <td>0</td>\n",
       "      <td>1</td>\n",
       "    </tr>\n",
       "    <tr>\n",
       "      <th>1</th>\n",
       "      <td>66370-Vente Appt à Casablanca Hay Hassani de 1...</td>\n",
       "      <td>1195000.0</td>\n",
       "      <td>Casablanca</td>\n",
       "      <td>1.5</td>\n",
       "      <td>2.0</td>\n",
       "      <td>2.0</td>\n",
       "      <td>98.0</td>\n",
       "      <td>1</td>\n",
       "      <td>1</td>\n",
       "      <td>1</td>\n",
       "      <td>1</td>\n",
       "      <td>0</td>\n",
       "      <td>1</td>\n",
       "      <td>0</td>\n",
       "      <td>0</td>\n",
       "      <td>1</td>\n",
       "      <td>0</td>\n",
       "      <td>0</td>\n",
       "    </tr>\n",
       "    <tr>\n",
       "      <th>2</th>\n",
       "      <td>Appartement à vendre 81 m² à Dar Bouazza</td>\n",
       "      <td>1350000.0</td>\n",
       "      <td>Dar Bouazza</td>\n",
       "      <td>1.0</td>\n",
       "      <td>2.0</td>\n",
       "      <td>2.0</td>\n",
       "      <td>81.0</td>\n",
       "      <td>1</td>\n",
       "      <td>1</td>\n",
       "      <td>1</td>\n",
       "      <td>1</td>\n",
       "      <td>1</td>\n",
       "      <td>1</td>\n",
       "      <td>1</td>\n",
       "      <td>0</td>\n",
       "      <td>1</td>\n",
       "      <td>1</td>\n",
       "      <td>1</td>\n",
       "    </tr>\n",
       "    <tr>\n",
       "      <th>3</th>\n",
       "      <td>63860-Vente Appt à Casablanca Quartier Bd Med ...</td>\n",
       "      <td>900000.0</td>\n",
       "      <td>Casablanca</td>\n",
       "      <td>1.5</td>\n",
       "      <td>1.0</td>\n",
       "      <td>1.0</td>\n",
       "      <td>56.0</td>\n",
       "      <td>1</td>\n",
       "      <td>0</td>\n",
       "      <td>1</td>\n",
       "      <td>1</td>\n",
       "      <td>0</td>\n",
       "      <td>1</td>\n",
       "      <td>0</td>\n",
       "      <td>1</td>\n",
       "      <td>1</td>\n",
       "      <td>1</td>\n",
       "      <td>1</td>\n",
       "    </tr>\n",
       "    <tr>\n",
       "      <th>4</th>\n",
       "      <td>Appartement à Rabat Agdal</td>\n",
       "      <td>3100000.0</td>\n",
       "      <td>Rabat</td>\n",
       "      <td>2.0</td>\n",
       "      <td>3.0</td>\n",
       "      <td>2.0</td>\n",
       "      <td>200.0</td>\n",
       "      <td>1</td>\n",
       "      <td>1</td>\n",
       "      <td>0</td>\n",
       "      <td>0</td>\n",
       "      <td>1</td>\n",
       "      <td>0</td>\n",
       "      <td>0</td>\n",
       "      <td>0</td>\n",
       "      <td>1</td>\n",
       "      <td>1</td>\n",
       "      <td>0</td>\n",
       "    </tr>\n",
       "  </tbody>\n",
       "</table>\n",
       "</div>"
      ],
      "text/plain": [
       "                                               title      price    city_name  \\\n",
       "0       CMN-MA-1752 - Appartement à vendre à Palmier  2000000.0   Casablanca   \n",
       "1  66370-Vente Appt à Casablanca Hay Hassani de 1...  1195000.0   Casablanca   \n",
       "2           Appartement à vendre 81 m² à Dar Bouazza  1350000.0  Dar Bouazza   \n",
       "3  63860-Vente Appt à Casablanca Quartier Bd Med ...   900000.0   Casablanca   \n",
       "4                          Appartement à Rabat Agdal  3100000.0        Rabat   \n",
       "\n",
       "   salon  nb_rooms  nb_baths  surface_area  Ascenseur  Balcon  Chauffage  \\\n",
       "0    1.5       2.0       2.0         168.0          1       1          0   \n",
       "1    1.5       2.0       2.0          98.0          1       1          1   \n",
       "2    1.0       2.0       2.0          81.0          1       1          1   \n",
       "3    1.5       1.0       1.0          56.0          1       0          1   \n",
       "4    2.0       3.0       2.0         200.0          1       1          0   \n",
       "\n",
       "   Climatisation  Concierge  Cuisine Équipée  Duplex  Meublé  Parking  \\\n",
       "0              0          0                0       0       0        1   \n",
       "1              1          0                1       0       0        1   \n",
       "2              1          1                1       1       0        1   \n",
       "3              1          0                1       0       1        1   \n",
       "4              0          1                0       0       0        1   \n",
       "\n",
       "   Sécurité  Terrasse  \n",
       "0         0         1  \n",
       "1         0         0  \n",
       "2         1         1  \n",
       "3         1         1  \n",
       "4         1         0  "
      ]
     },
     "execution_count": 25,
     "metadata": {},
     "output_type": "execute_result"
    }
   ],
   "source": [
    "df_clean.tail()"
   ]
  },
  {
   "cell_type": "code",
   "execution_count": null,
   "id": "43f9069f-ca37-46d6-8b1a-9cd363c95b9d",
   "metadata": {},
   "outputs": [],
   "source": []
  }
 ],
 "metadata": {
  "kernelspec": {
   "display_name": "Python 3 (ipykernel)",
   "language": "python",
   "name": "python3"
  },
  "language_info": {
   "codemirror_mode": {
    "name": "ipython",
    "version": 3
   },
   "file_extension": ".py",
   "mimetype": "text/x-python",
   "name": "python",
   "nbconvert_exporter": "python",
   "pygments_lexer": "ipython3",
   "version": "3.13.5"
  }
 },
 "nbformat": 4,
 "nbformat_minor": 5
}
